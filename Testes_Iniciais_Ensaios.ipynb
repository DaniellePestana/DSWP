{
  "nbformat": 4,
  "nbformat_minor": 0,
  "metadata": {
    "colab": {
      "name": "Testes Iniciais - Ensaios.ipynb",
      "provenance": [],
      "include_colab_link": true
    },
    "kernelspec": {
      "name": "python3",
      "display_name": "Python 3"
    }
  },
  "cells": [
    {
      "cell_type": "markdown",
      "metadata": {
        "id": "view-in-github",
        "colab_type": "text"
      },
      "source": [
        "<a href=\"https://colab.research.google.com/github/DaniellePestana/DSWP/blob/master/Testes_Iniciais_Ensaios.ipynb\" target=\"_parent\"><img src=\"https://colab.research.google.com/assets/colab-badge.svg\" alt=\"Open In Colab\"/></a>"
      ]
    },
    {
      "cell_type": "markdown",
      "metadata": {
        "id": "2Ua1xLbZDwny",
        "colab_type": "text"
      },
      "source": [
        "## Comentarios"
      ]
    },
    {
      "cell_type": "code",
      "metadata": {
        "id": "3WIRjagw-l5e",
        "colab_type": "code",
        "colab": {
          "base_uri": "https://localhost:8080/",
          "height": 34
        },
        "outputId": "651a6b42-f6a3-462b-e237-ce6b34cd1c6e"
      },
      "source": [
        "# 12/10/2019 - NOTAS DA FORMAÇÃO DATA SCIENCE WITH PYTHON (DSWP)\n",
        "# Comentários de uma linha em Python\n",
        "\n",
        "# NOTA: os comentarios de multiplas linhas ficam com cor diferente ?\n",
        "'''\n",
        "Aqui você pode colocar seus comentários.\n",
        "Linha 1\n",
        "Linha 2\n",
        "...\n",
        "Linha k\n",
        "'''"
      ],
      "execution_count": 14,
      "outputs": [
        {
          "output_type": "execute_result",
          "data": {
            "text/plain": [
              "'\\nAqui você pode colocar seus comentários.\\nLinha 1\\nLinha 2\\n...\\nLinha k\\n'"
            ]
          },
          "metadata": {
            "tags": []
          },
          "execution_count": 14
        }
      ]
    },
    {
      "cell_type": "code",
      "metadata": {
        "id": "yewM8pPzADTf",
        "colab_type": "code",
        "colab": {
          "base_uri": "https://localhost:8080/",
          "height": 51
        },
        "outputId": "0f05f7f0-b01c-48ba-d7a4-87567411c669"
      },
      "source": [
        "v_teste = 'Danielle'\n",
        "print(v_teste)\n",
        "print('linha 1'\n",
        "      'linha 2'\n",
        "      'linha 3')"
      ],
      "execution_count": 17,
      "outputs": [
        {
          "output_type": "stream",
          "text": [
            "Danielle\n",
            "linha 1linha 2linha 3\n"
          ],
          "name": "stdout"
        }
      ]
    },
    {
      "cell_type": "markdown",
      "metadata": {
        "id": "r4x0MC59C64g",
        "colab_type": "text"
      },
      "source": [
        "## Criando Funcões em Pyhton"
      ]
    },
    {
      "cell_type": "code",
      "metadata": {
        "id": "i6eacaPEDAL9",
        "colab_type": "code",
        "colab": {}
      },
      "source": [
        ""
      ],
      "execution_count": 0,
      "outputs": []
    }
  ]
}
{
  "nbformat": 4,
  "nbformat_minor": 0,
  "metadata": {
    "colab": {
      "name": "Testes Iniciais - Ensaios.ipynb",
      "provenance": [],
      "include_colab_link": true
    },
    "kernelspec": {
      "name": "python3",
      "display_name": "Python 3"
    }
  },
  "cells": [
    {
      "cell_type": "markdown",
      "metadata": {
        "id": "view-in-github",
        "colab_type": "text"
      },
      "source": [
        "<a href=\"https://colab.research.google.com/github/DaniellePestana/DSWP/blob/master/Testes_Iniciais_Ensaios.ipynb\" target=\"_parent\"><img src=\"https://colab.research.google.com/assets/colab-badge.svg\" alt=\"Open In Colab\"/></a>"
      ]
    },
    {
      "cell_type": "code",
      "metadata": {
        "id": "3WIRjagw-l5e",
        "colab_type": "code",
        "colab": {
          "base_uri": "https://localhost:8080/",
          "height": 34
        },
        "outputId": "6b819eaa-0f6a-4f03-a41b-c426c6def3e2"
      },
      "source": [
        "# 12/10/2019 - NOTAS DA FORMAÇÃO DATA SCIENCE WITH PYTHON (DSWP)\n",
        "# Comentários de uma linha em Python\n",
        "'''\n",
        "Aqui você pode colocar seus comentários.\n",
        "Linha 1\n",
        "Linha 2\n",
        "...\n",
        "Linha k\n",
        "'''"
      ],
      "execution_count": 6,
      "outputs": [
        {
          "output_type": "execute_result",
          "data": {
            "text/plain": [
              "'\\nAqui você pode colocar seus comentários.\\nLinha 1\\nLinha 2\\n...\\nLinha k\\n'"
            ]
          },
          "metadata": {
            "tags": []
          },
          "execution_count": 6
        }
      ]
    },
    {
      "cell_type": "code",
      "metadata": {
        "id": "yewM8pPzADTf",
        "colab_type": "code",
        "colab": {
          "base_uri": "https://localhost:8080/",
          "height": 34
        },
        "outputId": "2a5f7e1b-8942-4416-8c5b-2398e56c0c36"
      },
      "source": [
        "v_teste = 'Danielle'\n",
        "print(v_teste)"
      ],
      "execution_count": 12,
      "outputs": [
        {
          "output_type": "stream",
          "text": [
            "Danielle\n"
          ],
          "name": "stdout"
        }
      ]
    }
  ]
}